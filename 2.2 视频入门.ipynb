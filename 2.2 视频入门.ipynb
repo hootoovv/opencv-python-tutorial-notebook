{
 "cells": [
  {
   "attachments": {},
   "cell_type": "markdown",
   "metadata": {},
   "source": [
    "# 视频入门\n",
    "\n",
    "### 目标\n",
    "- 学习读取视频，显示视频和保存视频。\n",
    "- 学习从相机捕捉并显示它。\n",
    "- 你将学习以下功能：**cv.VideoCapture**()，**cv.VideoWriter**()\n",
    "\n",
    "### 从相机中读取视频\n",
    "\n",
    "通常情况下，我们必须用摄像机捕捉实时画面。提供了一个非常简单的界面。让我们从摄像头捕捉一段视频(我使用的是我笔记本电脑内置的网络摄像头) ，将其转换成灰度视频并显示出来。只是一个简单的任务开始。\n",
    "\n",
    "要捕获视频，你需要创建一个 **VideoCapture** 对象。它的参数可以是设备索引或视频文件的名称。设备索引就是指定哪个摄像头的数字。正常情况下，一个摄像头会被连接(就像我的情况一样)。所以我简单地传0(或-1)。你可以通过传递1来选择第二个相机，以此类推。在此之后，你可以逐帧捕获。但是在最后，不要忘记释放俘虏。"
   ]
  },
  {
   "cell_type": "code",
   "execution_count": 1,
   "metadata": {},
   "outputs": [],
   "source": [
    "import numpy as np\n",
    "import cv2 as cv\n",
    "\n",
    "cap = cv.VideoCapture(0)\n",
    "\n",
    "if not cap.isOpened():\n",
    "    print(\"Cannot open camera\")\n",
    "    exit()\n",
    "\n",
    "while True:\n",
    "    # 逐帧捕获\n",
    "    ret, frame = cap.read()\n",
    "\n",
    "    # 如果正确读取帧，ret为True\n",
    "    if not ret:\n",
    "        print(\"Can't receive frame (stream end?). Exiting ...\")\n",
    "        break\n",
    "\n",
    "    # 我们在框架上的操作到这里\n",
    "    gray = cv.cvtColor(frame, cv.COLOR_BGR2GRAY)\n",
    "\n",
    "    # 显示结果帧\n",
    "    cv.imshow('frame', gray)\n",
    "    if cv.waitKey(1) == ord('q'):\n",
    "        break\n",
    "\n",
    "# 完成所有操作后，释放捕获器\n",
    "cap.release()\n",
    "cv.destroyAllWindows()"
   ]
  },
  {
   "attachments": {},
   "cell_type": "markdown",
   "metadata": {},
   "source": [
    "`cap.read()`返回布尔值(`True`/ `False`)。如果正确读取了帧，它将为`True`。因此，你可以通过检查此返回值来检查视频的结尾。\n",
    "\n",
    "有时，cap可能尚未初始化捕获。在这种情况下，此代码显示错误。你可以通过**cap.isOpened**()方法检查它是否已初始化。如果是`True`，那么确定。否则，使用**cap.open**()打开它。\n",
    "\n",
    "你还可以使用`cap.get(propId)`方法访问该视频的某些功能，其中propId是0到18之间的一个数字。每个数字表示视频的属性（如果适用于该视频），并且可以显示完整的详细信息在这里看到：**cv::VideoCapture::get()**。其中一些值可以使用`cap.set(propId，value)`进行修改。`value`是你想要的新值。\n",
    "\n",
    "例如，我可以通过`cap.get(cv.CAP_PROP_FRAME_WIDTH)`和`cap.get(cv.CAP_PROP_FRAME_HEIGHT)`检查框架的宽度和高度。默认情况下，它的分辨率为640x480。但我想将其修改为320x240。只需使用和即可。`ret = cap.set(cv.CAP_PROP_FRAME_WIDTH,320)` and `ret = cap.set(cv.CAP_PROP_FRAME_HEIGHT,240)`.\n",
    "\n",
    "> **注意**\n",
    "  如果出现错误，请确保使用任何其他相机应用程序(例如Linux中的Cheese)都可以正常使用相机。\n",
    "\n",
    "### 从文件播放视频\n",
    "\n",
    "它与从相机捕获相同，只是用视频文件名更改摄像机索引。另外，在显示框架时，请使用适当的时间`time.sleep()`。如果太小，则视频将非常快，而如果太大，则视频将变得很慢（嗯，这就是显示慢动作的方式）。正常情况下25毫秒就可以了。"
   ]
  },
  {
   "cell_type": "code",
   "execution_count": 8,
   "metadata": {},
   "outputs": [
    {
     "ename": "KeyboardInterrupt",
     "evalue": "",
     "output_type": "error",
     "traceback": [
      "\u001b[1;31m---------------------------------------------------------------------------\u001b[0m",
      "\u001b[1;31mAttributeError\u001b[0m                            Traceback (most recent call last)",
      "File \u001b[1;32md:\\Tools\\Python\\Python38\\lib\\site-packages\\PIL\\ImageFile.py:495\u001b[0m, in \u001b[0;36m_save\u001b[1;34m(im, fp, tile, bufsize)\u001b[0m\n\u001b[0;32m    494\u001b[0m \u001b[39mtry\u001b[39;00m:\n\u001b[1;32m--> 495\u001b[0m     fh \u001b[39m=\u001b[39m fp\u001b[39m.\u001b[39;49mfileno()\n\u001b[0;32m    496\u001b[0m     fp\u001b[39m.\u001b[39mflush()\n",
      "\u001b[1;31mAttributeError\u001b[0m: '_idat' object has no attribute 'fileno'",
      "\nDuring handling of the above exception, another exception occurred:\n",
      "\u001b[1;31mKeyboardInterrupt\u001b[0m                         Traceback (most recent call last)",
      "\u001b[1;32me:\\Tech\\Practice\\OpenCV\\notebook\\2.2 视频入门.ipynb 单元格 4\u001b[0m in \u001b[0;36m<cell line: 9>\u001b[1;34m()\u001b[0m\n\u001b[0;32m     <a href='vscode-notebook-cell:/e%3A/Tech/Practice/OpenCV/notebook/2.2%20%E8%A7%86%E9%A2%91%E5%85%A5%E9%97%A8.ipynb#W6sZmlsZQ%3D%3D?line=17'>18</a>\u001b[0m gray \u001b[39m=\u001b[39m cv\u001b[39m.\u001b[39mcvtColor(frame, cv\u001b[39m.\u001b[39mCOLOR_BGR2GRAY)\n\u001b[0;32m     <a href='vscode-notebook-cell:/e%3A/Tech/Practice/OpenCV/notebook/2.2%20%E8%A7%86%E9%A2%91%E5%85%A5%E9%97%A8.ipynb#W6sZmlsZQ%3D%3D?line=19'>20</a>\u001b[0m img \u001b[39m=\u001b[39m Image\u001b[39m.\u001b[39mfromarray(gray)\n\u001b[1;32m---> <a href='vscode-notebook-cell:/e%3A/Tech/Practice/OpenCV/notebook/2.2%20%E8%A7%86%E9%A2%91%E5%85%A5%E9%97%A8.ipynb#W6sZmlsZQ%3D%3D?line=21'>22</a>\u001b[0m display(img)\n\u001b[0;32m     <a href='vscode-notebook-cell:/e%3A/Tech/Practice/OpenCV/notebook/2.2%20%E8%A7%86%E9%A2%91%E5%85%A5%E9%97%A8.ipynb#W6sZmlsZQ%3D%3D?line=22'>23</a>\u001b[0m \u001b[39m# 控制帧率\u001b[39;00m\n\u001b[0;32m     <a href='vscode-notebook-cell:/e%3A/Tech/Practice/OpenCV/notebook/2.2%20%E8%A7%86%E9%A2%91%E5%85%A5%E9%97%A8.ipynb#W6sZmlsZQ%3D%3D?line=23'>24</a>\u001b[0m time\u001b[39m.\u001b[39msleep(\u001b[39m0.025\u001b[39m)\n",
      "File \u001b[1;32md:\\Tools\\Python\\Python38\\lib\\site-packages\\IPython\\core\\display_functions.py:298\u001b[0m, in \u001b[0;36mdisplay\u001b[1;34m(include, exclude, metadata, transient, display_id, raw, clear, *objs, **kwargs)\u001b[0m\n\u001b[0;32m    296\u001b[0m     publish_display_data(data\u001b[39m=\u001b[39mobj, metadata\u001b[39m=\u001b[39mmetadata, \u001b[39m*\u001b[39m\u001b[39m*\u001b[39mkwargs)\n\u001b[0;32m    297\u001b[0m \u001b[39melse\u001b[39;00m:\n\u001b[1;32m--> 298\u001b[0m     format_dict, md_dict \u001b[39m=\u001b[39m \u001b[39mformat\u001b[39;49m(obj, include\u001b[39m=\u001b[39;49minclude, exclude\u001b[39m=\u001b[39;49mexclude)\n\u001b[0;32m    299\u001b[0m     \u001b[39mif\u001b[39;00m \u001b[39mnot\u001b[39;00m format_dict:\n\u001b[0;32m    300\u001b[0m         \u001b[39m# nothing to display (e.g. _ipython_display_ took over)\u001b[39;00m\n\u001b[0;32m    301\u001b[0m         \u001b[39mcontinue\u001b[39;00m\n",
      "File \u001b[1;32md:\\Tools\\Python\\Python38\\lib\\site-packages\\IPython\\core\\formatters.py:178\u001b[0m, in \u001b[0;36mDisplayFormatter.format\u001b[1;34m(self, obj, include, exclude)\u001b[0m\n\u001b[0;32m    176\u001b[0m md \u001b[39m=\u001b[39m \u001b[39mNone\u001b[39;00m\n\u001b[0;32m    177\u001b[0m \u001b[39mtry\u001b[39;00m:\n\u001b[1;32m--> 178\u001b[0m     data \u001b[39m=\u001b[39m formatter(obj)\n\u001b[0;32m    179\u001b[0m \u001b[39mexcept\u001b[39;00m:\n\u001b[0;32m    180\u001b[0m     \u001b[39m# FIXME: log the exception\u001b[39;00m\n\u001b[0;32m    181\u001b[0m     \u001b[39mraise\u001b[39;00m\n",
      "File \u001b[1;32md:\\Tools\\Python\\Python38\\lib\\site-packages\\decorator.py:232\u001b[0m, in \u001b[0;36mdecorate.<locals>.fun\u001b[1;34m(*args, **kw)\u001b[0m\n\u001b[0;32m    230\u001b[0m \u001b[39mif\u001b[39;00m \u001b[39mnot\u001b[39;00m kwsyntax:\n\u001b[0;32m    231\u001b[0m     args, kw \u001b[39m=\u001b[39m fix(args, kw, sig)\n\u001b[1;32m--> 232\u001b[0m \u001b[39mreturn\u001b[39;00m caller(func, \u001b[39m*\u001b[39;49m(extras \u001b[39m+\u001b[39;49m args), \u001b[39m*\u001b[39;49m\u001b[39m*\u001b[39;49mkw)\n",
      "File \u001b[1;32md:\\Tools\\Python\\Python38\\lib\\site-packages\\IPython\\core\\formatters.py:222\u001b[0m, in \u001b[0;36mcatch_format_error\u001b[1;34m(method, self, *args, **kwargs)\u001b[0m\n\u001b[0;32m    220\u001b[0m \u001b[39m\"\"\"show traceback on failed format call\"\"\"\u001b[39;00m\n\u001b[0;32m    221\u001b[0m \u001b[39mtry\u001b[39;00m:\n\u001b[1;32m--> 222\u001b[0m     r \u001b[39m=\u001b[39m method(\u001b[39mself\u001b[39;49m, \u001b[39m*\u001b[39;49margs, \u001b[39m*\u001b[39;49m\u001b[39m*\u001b[39;49mkwargs)\n\u001b[0;32m    223\u001b[0m \u001b[39mexcept\u001b[39;00m \u001b[39mNotImplementedError\u001b[39;00m:\n\u001b[0;32m    224\u001b[0m     \u001b[39m# don't warn on NotImplementedErrors\u001b[39;00m\n\u001b[0;32m    225\u001b[0m     \u001b[39mreturn\u001b[39;00m \u001b[39mself\u001b[39m\u001b[39m.\u001b[39m_check_return(\u001b[39mNone\u001b[39;00m, args[\u001b[39m0\u001b[39m])\n",
      "File \u001b[1;32md:\\Tools\\Python\\Python38\\lib\\site-packages\\IPython\\core\\formatters.py:343\u001b[0m, in \u001b[0;36mBaseFormatter.__call__\u001b[1;34m(self, obj)\u001b[0m\n\u001b[0;32m    341\u001b[0m     method \u001b[39m=\u001b[39m get_real_method(obj, \u001b[39mself\u001b[39m\u001b[39m.\u001b[39mprint_method)\n\u001b[0;32m    342\u001b[0m     \u001b[39mif\u001b[39;00m method \u001b[39mis\u001b[39;00m \u001b[39mnot\u001b[39;00m \u001b[39mNone\u001b[39;00m:\n\u001b[1;32m--> 343\u001b[0m         \u001b[39mreturn\u001b[39;00m method()\n\u001b[0;32m    344\u001b[0m     \u001b[39mreturn\u001b[39;00m \u001b[39mNone\u001b[39;00m\n\u001b[0;32m    345\u001b[0m \u001b[39melse\u001b[39;00m:\n",
      "File \u001b[1;32md:\\Tools\\Python\\Python38\\lib\\site-packages\\PIL\\Image.py:652\u001b[0m, in \u001b[0;36mImage._repr_png_\u001b[1;34m(self)\u001b[0m\n\u001b[0;32m    650\u001b[0m b \u001b[39m=\u001b[39m io\u001b[39m.\u001b[39mBytesIO()\n\u001b[0;32m    651\u001b[0m \u001b[39mtry\u001b[39;00m:\n\u001b[1;32m--> 652\u001b[0m     \u001b[39mself\u001b[39;49m\u001b[39m.\u001b[39;49msave(b, \u001b[39m\"\u001b[39;49m\u001b[39mPNG\u001b[39;49m\u001b[39m\"\u001b[39;49m)\n\u001b[0;32m    653\u001b[0m \u001b[39mexcept\u001b[39;00m \u001b[39mException\u001b[39;00m \u001b[39mas\u001b[39;00m e:\n\u001b[0;32m    654\u001b[0m     \u001b[39mraise\u001b[39;00m \u001b[39mValueError\u001b[39;00m(\u001b[39m\"\u001b[39m\u001b[39mCould not save to PNG for display\u001b[39m\u001b[39m\"\u001b[39m) \u001b[39mfrom\u001b[39;00m \u001b[39me\u001b[39;00m\n",
      "File \u001b[1;32md:\\Tools\\Python\\Python38\\lib\\site-packages\\PIL\\Image.py:2212\u001b[0m, in \u001b[0;36mImage.save\u001b[1;34m(self, fp, format, **params)\u001b[0m\n\u001b[0;32m   2209\u001b[0m         fp \u001b[39m=\u001b[39m builtins\u001b[39m.\u001b[39mopen(filename, \u001b[39m\"\u001b[39m\u001b[39mw+b\u001b[39m\u001b[39m\"\u001b[39m)\n\u001b[0;32m   2211\u001b[0m \u001b[39mtry\u001b[39;00m:\n\u001b[1;32m-> 2212\u001b[0m     save_handler(\u001b[39mself\u001b[39;49m, fp, filename)\n\u001b[0;32m   2213\u001b[0m \u001b[39mfinally\u001b[39;00m:\n\u001b[0;32m   2214\u001b[0m     \u001b[39m# do what we can to clean up\u001b[39;00m\n\u001b[0;32m   2215\u001b[0m     \u001b[39mif\u001b[39;00m open_fp:\n",
      "File \u001b[1;32md:\\Tools\\Python\\Python38\\lib\\site-packages\\PIL\\PngImagePlugin.py:1348\u001b[0m, in \u001b[0;36m_save\u001b[1;34m(im, fp, filename, chunk, save_all)\u001b[0m\n\u001b[0;32m   1346\u001b[0m     _write_multiple_frames(im, fp, chunk, rawmode)\n\u001b[0;32m   1347\u001b[0m \u001b[39melse\u001b[39;00m:\n\u001b[1;32m-> 1348\u001b[0m     ImageFile\u001b[39m.\u001b[39;49m_save(im, _idat(fp, chunk), [(\u001b[39m\"\u001b[39;49m\u001b[39mzip\u001b[39;49m\u001b[39m\"\u001b[39;49m, (\u001b[39m0\u001b[39;49m, \u001b[39m0\u001b[39;49m) \u001b[39m+\u001b[39;49m im\u001b[39m.\u001b[39;49msize, \u001b[39m0\u001b[39;49m, rawmode)])\n\u001b[0;32m   1350\u001b[0m \u001b[39mif\u001b[39;00m info:\n\u001b[0;32m   1351\u001b[0m     \u001b[39mfor\u001b[39;00m info_chunk \u001b[39min\u001b[39;00m info\u001b[39m.\u001b[39mchunks:\n",
      "File \u001b[1;32md:\\Tools\\Python\\Python38\\lib\\site-packages\\PIL\\ImageFile.py:509\u001b[0m, in \u001b[0;36m_save\u001b[1;34m(im, fp, tile, bufsize)\u001b[0m\n\u001b[0;32m    507\u001b[0m \u001b[39melse\u001b[39;00m:\n\u001b[0;32m    508\u001b[0m     \u001b[39mwhile\u001b[39;00m \u001b[39mTrue\u001b[39;00m:\n\u001b[1;32m--> 509\u001b[0m         l, s, d \u001b[39m=\u001b[39m e\u001b[39m.\u001b[39;49mencode(bufsize)\n\u001b[0;32m    510\u001b[0m         fp\u001b[39m.\u001b[39mwrite(d)\n\u001b[0;32m    511\u001b[0m         \u001b[39mif\u001b[39;00m s:\n",
      "\u001b[1;31mKeyboardInterrupt\u001b[0m: "
     ]
    }
   ],
   "source": [
    "import numpy as np\n",
    "import cv2 as cv\n",
    "import time\n",
    "from IPython.display import clear_output,  display, HTML\n",
    "from PIL import Image\n",
    "\n",
    "cap = cv.VideoCapture('data/vtest.avi')\n",
    "\n",
    "while cap.isOpened():\n",
    "    clear_output(wait=True)\n",
    "    ret, frame = cap.read()\n",
    "\n",
    "    # 如果正确读取帧，ret为True\n",
    "    if not ret:\n",
    "        print(\"Can't receive frame (stream end?). Exiting ...\")\n",
    "        break\n",
    "\n",
    "    gray = cv.cvtColor(frame, cv.COLOR_BGR2GRAY)\n",
    "\n",
    "    img = Image.fromarray(gray)\n",
    "\n",
    "    display(img)\n",
    "    # 控制帧率\n",
    "    time.sleep(0.025)\n",
    "\n",
    "cap.release()"
   ]
  },
  {
   "attachments": {},
   "cell_type": "markdown",
   "metadata": {},
   "source": [
    "> **注意**\n",
    "确保安装了正确的 ffmpeg 或 gstreamer 版本。有时，使用视频捕获(Video Capture)是一件令人头疼的事情，主要原因是错误地安装了 ffmpeg / gstreamer。\n",
    "\n",
    "### 保存视频\n",
    "所以我们捕捉一个视频，一帧一帧地处理，我们想要保存这个视频。对于图像，它非常简单，只需使用 **cv.imwrite**()。这里还需要做一些工作。\n",
    "\n",
    "这次我们创建一个 **VideoWriter** 对象。我们应该指定输出文件名(例如: output.avi)。然后我们应该指定 **FourCC** 代码(详见下一段)。然后传递帧率的数量和帧大小。最后一个是颜色标志。如果为 `True`，编码器期望颜色帧，否则它与灰度帧一起工作。\n",
    "\n",
    "FourCC：http://en.wikipedia.org/wiki/FourCC 是用于指定视频编解码器的4字节代码。可用代码列表可在fourcc.org中:http://www.fourcc.org/codecs.php 找到。它取决于平台。遵循编解码器对我来说效果很好。\n",
    "\n",
    "- 在Fedora中：DIVX，XVID，MJPG，X264，WMV1，WMV2。（最好使用XVID。MJPG会生成大尺寸的视频。X264会生成非常小的尺寸的视频）\n",
    "- 在Windows中：DIVX（尚待测试和添加）\n",
    "- 在OSX中：MJPG（.mp4），DIVX（.avi），X264（.mkv）。\n",
    "\n",
    "FourCC代码作为MJPG的`cv.VideoWriter_fourcc（'M'，'J'，'P'，'G'）`or `cv.VideoWriter_fourcc（*'MJPG'）`传递。\n",
    "\n",
    "在从摄像机捕获的代码下面，沿垂直方向翻转每一帧并保存。"
   ]
  },
  {
   "cell_type": "code",
   "execution_count": 4,
   "metadata": {},
   "outputs": [],
   "source": [
    "import numpy as np\n",
    "import cv2 as cv\n",
    "\n",
    "cap = cv.VideoCapture(0)\n",
    "\n",
    "# 定义编解码器并创建VideoWriter对象\n",
    "fourcc = cv.VideoWriter_fourcc(*'XVID')\n",
    "out = cv.VideoWriter('output/output.avi', fourcc, 20.0, (640,  480))\n",
    "\n",
    "while cap.isOpened():\n",
    "    ret, frame = cap.read()\n",
    "    if not ret:\n",
    "        print(\"Can't receive frame (stream end?). Exiting ...\")\n",
    "        break\n",
    "\n",
    "    frame = cv.flip(frame, 0)\n",
    "\n",
    "    # 写翻转的框架\n",
    "    out.write(frame)\n",
    "    \n",
    "    cv.imshow('frame', frame)\n",
    "    if cv.waitKey(1) == ord('q'):\n",
    "        break\n",
    "        \n",
    "# 完成工作后释放所有内容\n",
    "cap.release()\n",
    "out.release()\n",
    "cv.destroyAllWindows()"
   ]
  },
  {
   "attachments": {},
   "cell_type": "markdown",
   "metadata": {},
   "source": [
    "### 其他资源\n",
    "\n",
    "#### 练习题"
   ]
  }
 ],
 "metadata": {
  "kernelspec": {
   "display_name": "Python 3",
   "language": "python",
   "name": "python3"
  },
  "language_info": {
   "codemirror_mode": {
    "name": "ipython",
    "version": 3
   },
   "file_extension": ".py",
   "mimetype": "text/x-python",
   "name": "python",
   "nbconvert_exporter": "python",
   "pygments_lexer": "ipython3",
   "version": "3.8.5"
  },
  "orig_nbformat": 4
 },
 "nbformat": 4,
 "nbformat_minor": 2
}
